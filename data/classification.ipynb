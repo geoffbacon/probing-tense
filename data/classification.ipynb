{
 "cells": [
  {
   "cell_type": "markdown",
   "metadata": {},
   "source": [
    "# Classification"
   ]
  },
  {
   "cell_type": "code",
   "execution_count": 1,
   "metadata": {
    "collapsed": true
   },
   "outputs": [],
   "source": [
    "import os\n",
    "import pickle\n",
    "import logging\n",
    "from datetime import datetime\n",
    "from itertools import product\n",
    "import numpy as np\n",
    "import pandas as pd\n",
    "from sklearn.linear_model import LogisticRegressionCV\n",
    "\n",
    "logging.basicConfig(filename='logs/classification.log', filemode='w', level=logging.INFO, \n",
    "                        format='%(asctime)s %(message)s', datefmt='%m/%d/%Y %I:%M:%S %p')\n",
    "\n",
    "RANDOM_SEED = sum(map(ord, 'time'))\n",
    "Cs = np.logspace(start=-4, stop=-2, base=10, num=10)\n",
    "CV = 10"
   ]
  },
  {
   "cell_type": "code",
   "execution_count": 3,
   "metadata": {
    "collapsed": true
   },
   "outputs": [],
   "source": [
    "def classify(lg, model_name, dim):\n",
    "    start = datetime.now()\n",
    "    fname = os.path.join('representations', lg, '{}-{}.csv'.format(model_name, dim))\n",
    "    data = pd.read_csv(fname)\n",
    "    train = data[data['train']]\n",
    "    test = data[~data['train']].copy()\n",
    "    predictors = [c for c in data if c.isdigit()]\n",
    "    assert len(predictors) == dim, \"Something's wrong with the dimensions\"\n",
    "    response = 'tense'\n",
    "    X_train, X_test = train[predictors], test[predictors]\n",
    "    y_train, y_test = train[response], test[response]\n",
    "    model = LogisticRegressionCV(Cs=Cs, penalty='l1', cv=CV, solver='liblinear', refit=True, random_state=RANDOM_SEED)\n",
    "    model = model.fit(X_train, y_train)\n",
    "    accuracy = model.score(X_test, y_test)\n",
    "    test['prediction'] = model.predict(X_test)\n",
    "    test.drop(predictors, axis=1, inplace=True)\n",
    "    prediction_probs = pd.DataFrame(model.predict_proba(X_test), columns=model.classes_, index=test.index)\n",
    "    p_correct = []\n",
    "    # I'm so embarrassed to be iterating over a pandas object myself,\n",
    "    # but I can't think of an easier way that is also cleanly written\n",
    "    for i, v in test['tense'].iteritems(): \n",
    "        p = prediction_probs.loc[i][v]\n",
    "        p_correct.append(p)\n",
    "    test['prob_correct'] = p_correct\n",
    "    fname = '{}-{}-results.csv'.format(model_name, dim)\n",
    "    fname = os.path.join('classification', lg, fname)\n",
    "    test.to_csv(fname, index=True)\n",
    "    obj = {'accuracy': accuracy, 'weights': model.coef_, 'classes': model.classes_, 'model': model}\n",
    "    fname = '{}-{}-model.pkl'.format(model_name, dim)\n",
    "    fname = os.path.join('classification', lg, fname)\n",
    "    with open(fname, 'wb') as f:\n",
    "        pickle.dump(obj, f)\n",
    "    end = datetime.now()\n",
    "    msg = 'Classifying {} {} {} took {}'.format(lg, model_name, dim, end-start)\n",
    "    logging.info(msg)"
   ]
  },
  {
   "cell_type": "code",
   "execution_count": 4,
   "metadata": {
    "collapsed": true
   },
   "outputs": [],
   "source": [
    "lgs = ['en']\n",
    "models = ['skipgram']\n",
    "dims = [20, 40, 60, 80]\n",
    "fs = ['sum', 'mean', 'max', 'min', 't2b-0.0001']\n",
    "for lg, model, dim, f in product(lgs, models, dims, fs):\n",
    "    model = '{}-{}'.format(model, f)\n",
    "    classify(lg, model, dim)"
   ]
  },
  {
   "cell_type": "code",
   "execution_count": null,
   "metadata": {
    "collapsed": true
   },
   "outputs": [],
   "source": []
  }
 ],
 "metadata": {
  "kernelspec": {
   "display_name": "Python 3",
   "language": "python",
   "name": "python3"
  },
  "language_info": {
   "codemirror_mode": {
    "name": "ipython",
    "version": 3
   },
   "file_extension": ".py",
   "mimetype": "text/x-python",
   "name": "python",
   "nbconvert_exporter": "python",
   "pygments_lexer": "ipython3",
   "version": "3.6.1"
  }
 },
 "nbformat": 4,
 "nbformat_minor": 2
}
