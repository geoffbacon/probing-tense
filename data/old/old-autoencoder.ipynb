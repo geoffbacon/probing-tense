{
 "cells": [
  {
   "cell_type": "code",
   "execution_count": 1,
   "metadata": {},
   "outputs": [
    {
     "name": "stderr",
     "output_type": "stream",
     "text": [
      "Using TensorFlow backend.\n"
     ]
    }
   ],
   "source": [
    "import os\n",
    "import glob\n",
    "import pickle\n",
    "import logging\n",
    "import warnings\n",
    "warnings.simplefilter(action='ignore', category=FutureWarning)\n",
    "from datetime import datetime\n",
    "import numpy as np\n",
    "from keras.models import Model, load_model\n",
    "from keras.layers import Input, LSTM, Dense, Embedding\n",
    "from keras.utils import to_categorical\n",
    "from keras.preprocessing.sequence import pad_sequences\n",
    "\n",
    "logging.basicConfig(filename='logs/autoencoder.log', filemode='w', level=logging.INFO, \n",
    "                        format='%(asctime)s %(message)s', datefmt='%m/%d/%Y %I:%M:%S %p')\n",
    "\n",
    "DIMS = [5, 10]\n",
    "BATCH_SIZE = 4\n",
    "EPOCHS = 2"
   ]
  },
  {
   "cell_type": "code",
   "execution_count": 2,
   "metadata": {},
   "outputs": [
    {
     "data": {
      "text/plain": [
       "[]"
      ]
     },
     "execution_count": 2,
     "metadata": {},
     "output_type": "execute_result"
    }
   ],
   "source": [
    "from keras import backend as K\n",
    "K.tensorflow_backend._get_available_gpus()"
   ]
  },
  {
   "cell_type": "code",
   "execution_count": 6,
   "metadata": {
    "collapsed": true
   },
   "outputs": [],
   "source": [
    "class Trainer:\n",
    "    \n",
    "    def __init__(self, lg):\n",
    "        self.lg = lg\n",
    "        #self.steps_per_epoch = self.read_num_sents() // BATCH_SIZE # uncomment for real run\n",
    "        self.steps_per_epoch = 100\n",
    "        self.word2id = self.read_word2id()\n",
    "        self.word2id['PAD'] = 0\n",
    "        self.word2id['SOS'] = len(self.word2id)\n",
    "        self.word2id['EOS'] = len(self.word2id)\n",
    "        self.vocab_size = len(self.word2id)\n",
    "        self.path_to_articles = os.path.join('wikipedia', self.lg, 'unk-articles', '*.txt')\n",
    "        self.out_dir = os.path.join('embeddings', self.lg)\n",
    "    \n",
    "    def read_num_sents(self):\n",
    "        fname = os.path.join('wikipedia', self.lg, 'metadata.pkl')\n",
    "        with open(fname, 'rb') as f:\n",
    "            obj = pickle.load(f)\n",
    "        return obj['num_sents']\n",
    "    \n",
    "    def read_word2id(self):\n",
    "        fname = os.path.join('wikipedia', self.lg, 'unk-metadata.pkl')\n",
    "        with open(fname, 'rb') as f:\n",
    "            obj = pickle.load(f)\n",
    "        return obj['word2id']\n",
    "    \n",
    "    def train(self):\n",
    "        for d in DIMS:\n",
    "            start = datetime.now()\n",
    "            autoencoder = Autoencoder(d, self.word2id, self.path_to_articles)\n",
    "            autoencoder.train(self.steps_per_epoch)\n",
    "            autoencoder.save(self.out_dir)\n",
    "            end = datetime.now()\n",
    "            msg = 'Training {} autoencoder with {} dimensions took {}'.format(self.lg, d, end-start)\n",
    "            logging.info(msg)\n",
    "    \n",
    "class Autoencoder:\n",
    "    \n",
    "    def __init__(self, dim, word2id, path):\n",
    "        self.dim = dim\n",
    "        self.word2id = word2id.copy()\n",
    "        self.PAD = self.word2id['PAD']\n",
    "        self.SOS = self.word2id['SOS']\n",
    "        self.EOS = self.word2id['EOS']\n",
    "        self.vocab_size = len(self.word2id)\n",
    "        self.path = path\n",
    "        self.model, self.encoder = self.build_models()\n",
    "    \n",
    "    def indices_from_sentence(self, sent):\n",
    "        return [self.word2id[w] for w in sent.split(' ') if w] + [self.EOS]\n",
    "    \n",
    "    def build_models(self):\n",
    "        encoder_inputs = Input(shape=(None,))\n",
    "        encoder_embedding = Embedding(self.vocab_size, self.dim, mask_zero=True)(encoder_inputs)\n",
    "        encoder = LSTM(self.dim, return_state=True)\n",
    "        encoder_outputs, h, c = encoder(encoder_embedding)\n",
    "        decoder_inputs = Input(shape=(None,))\n",
    "        decoder_embedding = Embedding(self.vocab_size, self.dim, mask_zero=True)(decoder_inputs)\n",
    "        decoder = LSTM(self.dim, return_sequences=True)\n",
    "        decoder_outputs = decoder(decoder_embedding, initial_state=[h,c])\n",
    "        dense = Dense(self.vocab_size, activation='softmax')\n",
    "        decoder_outputs = dense(decoder_outputs)\n",
    "        model = Model(inputs=[encoder_inputs, decoder_inputs], outputs=[decoder_outputs])\n",
    "        model.compile(optimizer='rmsprop', loss='categorical_crossentropy')\n",
    "        encoder_model = Model(encoder_inputs, h)\n",
    "        return model, encoder_model\n",
    "    \n",
    "    def generate_batches(self):\n",
    "        while True:\n",
    "            fnames = glob.iglob(self.path)\n",
    "            batch = []\n",
    "            for fname in fnames:\n",
    "                with open(fname, encoding='utf-8') as f:\n",
    "                    for line in f:\n",
    "                        batch.append(line.strip())\n",
    "                        if len(batch) == BATCH_SIZE:\n",
    "                            encoder_input_data = [self.indices_from_sentence(sent) for sent in batch]\n",
    "                            encoder_input_data = pad_sequences(encoder_input_data, padding='post', value=self.PAD)\n",
    "                            decoder_input_data = [[self.SOS] + self.indices_from_sentence(sent) for sent in batch]\n",
    "                            decoder_input_data = pad_sequences(decoder_input_data, padding='post', value=self.PAD)\n",
    "                            decoder_target_data = [self.indices_from_sentence(sent) + [self.PAD] for sent in batch]\n",
    "                            decoder_target_data = pad_sequences(decoder_target_data, padding='post', value=self.PAD)\n",
    "                            decoder_target_data = to_categorical(decoder_target_data, self.vocab_size)\n",
    "                            yield ([encoder_input_data, decoder_input_data], decoder_target_data)\n",
    "                            batch = []\n",
    "    \n",
    "    def train(self, num_steps):\n",
    "        batches = self.generate_batches()\n",
    "        self.model.fit_generator(batches, steps_per_epoch=num_steps, epochs=EPOCHS)\n",
    "    \n",
    "    def encode(self, sentences):\n",
    "        result = {}\n",
    "        for s in sentences:\n",
    "            encoder_input_data = self.indices_from_sentence(s)\n",
    "            encoder_input_data = np.array([encoder_input_data])\n",
    "            h = self.encoder.predict(encoder_input_data)\n",
    "            result[s] = h.flatten()\n",
    "        return result\n",
    "    \n",
    "    def save(self, dirname):\n",
    "        fname = os.path.join(dirname, 'autoencoder-{}.model'.format(self.dim))\n",
    "        self.encoder.save(fname)\n",
    "        \n",
    "    def load(self, dirname):\n",
    "        fname = os.path.join(dirname, 'autoencoder-{}.model'.format(self.dim))\n",
    "        self.encoder = load_model(fname)"
   ]
  },
  {
   "cell_type": "code",
   "execution_count": 7,
   "metadata": {},
   "outputs": [
    {
     "name": "stdout",
     "output_type": "stream",
     "text": [
      "Epoch 1/2\n",
      "100/100 [==============================] - 329s 3s/step - loss: 10.6936\n",
      "Epoch 2/2\n",
      "100/100 [==============================] - 341s 3s/step - loss: 10.0942\n",
      "Epoch 1/2\n",
      "100/100 [==============================] - 320s 3s/step - loss: 10.4051\n",
      "Epoch 2/2\n",
      "100/100 [==============================] - 319s 3s/step - loss: 9.0609\n"
     ]
    }
   ],
   "source": [
    "t = Trainer('en')\n",
    "t.train()"
   ]
  }
 ],
 "metadata": {
  "kernelspec": {
   "display_name": "Python 3",
   "language": "python",
   "name": "python3"
  },
  "language_info": {
   "codemirror_mode": {
    "name": "ipython",
    "version": 3
   },
   "file_extension": ".py",
   "mimetype": "text/x-python",
   "name": "python",
   "nbconvert_exporter": "python",
   "pygments_lexer": "ipython3",
   "version": "3.6.1"
  }
 },
 "nbformat": 4,
 "nbformat_minor": 2
}
