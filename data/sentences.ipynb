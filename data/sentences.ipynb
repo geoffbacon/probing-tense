{
 "cells": [
  {
   "cell_type": "markdown",
   "metadata": {},
   "source": [
    "# Sentences"
   ]
  },
  {
   "cell_type": "code",
   "execution_count": 1,
   "metadata": {
    "collapsed": true
   },
   "outputs": [],
   "source": [
    "import os\n",
    "import pickle\n",
    "import logging\n",
    "import warnings\n",
    "warnings.simplefilter(action='ignore', category=FutureWarning)\n",
    "from itertools import product\n",
    "from datetime import datetime\n",
    "import numpy as np\n",
    "import pandas as pd\n",
    "import spacy\n",
    "from sklearn.decomposition import TruncatedSVD\n",
    "\n",
    "logging.basicConfig(filename='logs/sentences.log', filemode='a', level=logging.INFO, \n",
    "                        format='%(asctime)s %(message)s', datefmt='%m/%d/%Y %I:%M:%S %p')"
   ]
  },
  {
   "cell_type": "code",
   "execution_count": 2,
   "metadata": {
    "collapsed": true
   },
   "outputs": [],
   "source": [
    "class SentenceEmbedder:\n",
    "    \n",
    "    ALPHA = 1e-4\n",
    "    \n",
    "    def __init__(self, lg):\n",
    "        self.lg = lg\n",
    "        nlp = spacy.load(lg, disable=['tagger', 'parser', 'ner', 'textcat'])\n",
    "        self.tokenizer = nlp.tokenizer\n",
    "        self.not_in_wiki = self.read_pickled_metadata('wikipedia', 'unk-metadata.pkl', 'not-in-wiki')\n",
    "        self.tensed_types = self.read_pickled_metadata('UD', 'metadata.pkl', 'tensed_types')\n",
    "        self.missing_tensed_words = self.tensed_types.intersection(self.not_in_wiki)\n",
    "        self.prepared = self.read_prepared()\n",
    "        self.sentences = self.prepared['text']\n",
    "    \n",
    "    def read_pickled_metadata(self, dirname, fname, key):\n",
    "        fname = os.path.join(dirname, self.lg, fname)\n",
    "        with open(fname, 'rb') as f:\n",
    "            obj = pickle.load(f)\n",
    "        return obj[key]\n",
    "    \n",
    "    def read_prepared(self):\n",
    "        fname = os.path.join('UD', self.lg, 'prepared.csv')\n",
    "        return pd.read_csv(fname)\n",
    "    \n",
    "    def read_embedding(self, model, dim):\n",
    "        fname = os.path.join('embeddings', self.lg, '{}-{}.csv'.format(model, dim))\n",
    "        df = pd.read_csv(fname, index_col=0)\n",
    "        return df.reset_index().dropna().set_index('lx_obj') # drops rows that somehow are embeddings for NaN\n",
    "    \n",
    "    def combine_sentence_embeddings_and_prepared(self, embeddings):\n",
    "        return pd.merge(self.prepared, embeddings, left_index=True, right_index=True, how='left')\n",
    "    \n",
    "    def save(self, df, model, dim):\n",
    "        fname = '{}-{}.csv'.format(model, dim)\n",
    "        fname = os.path.join('representations', self.lg, fname)\n",
    "        df.to_csv(fname, index=False)\n",
    "        \n",
    "    def unk_filter(self, sentence, embeddings):\n",
    "        tokens = [t.text for t in self.tokenizer(sentence)]\n",
    "        new_tokens = []\n",
    "        for token in tokens:\n",
    "            if token in embeddings.index:\n",
    "                new_tokens.append(token)\n",
    "            else:\n",
    "                assert token not in self.missing_tensed_words, \"You're missing an important tensed word here.\"\n",
    "                new_tokens.append('UNK')\n",
    "        return new_tokens\n",
    "    \n",
    "    def combine_element_wise(self, model, dim, f):\n",
    "        embeddings = self.read_embedding(model, dim)\n",
    "        sentence_embeddings = []\n",
    "        for s in self.sentences:\n",
    "            new_tokens = self.unk_filter(s, embeddings)\n",
    "            e = getattr(embeddings.loc[new_tokens], f)()\n",
    "            e.index = e.index.astype(int)\n",
    "            sentence_embeddings.append(e)\n",
    "        sentence_embeddings = pd.DataFrame(sentence_embeddings)\n",
    "        result = self.combine_sentence_embeddings_and_prepared(sentence_embeddings)\n",
    "        model = '{}-{}'.format(model, f)\n",
    "        self.save(result, model, dim)\n",
    "    \n",
    "    def read_wiki_metadata(self, embeddings):\n",
    "        fname = os.path.join('wikipedia', self.lg, 'metadata.pkl')\n",
    "        with open(fname, 'rb') as f:\n",
    "            obj = pickle.load(f)\n",
    "        wiki_freq_dist = obj['freq_dist']\n",
    "        wiki_freq_dist['UNK'] = sum([f for w,f in wiki_freq_dist.items() if w not in embeddings.index])\n",
    "        num_tokens = obj['num_tokens']\n",
    "        return wiki_freq_dist, num_tokens\n",
    "    \n",
    "    def get_weights(self, model, dim):\n",
    "        embeddings = self.read_embedding(model, dim)\n",
    "        wiki_freq_dist, num_tokens = self.read_wiki_metadata(embeddings)\n",
    "        probs = embeddings.index.map(lambda w: wiki_freq_dist[w]) / num_tokens\n",
    "        probs = pd.Series(probs, index=embeddings.index)\n",
    "        weights = self.ALPHA / (self.ALPHA + probs)\n",
    "        return weights\n",
    "    \n",
    "    def get_weighted_average(self, embeddings, model, dim):\n",
    "        weights = self.get_weights(model, dim)\n",
    "        num_sents = len(self.sentences)\n",
    "        result = np.zeros((num_sents, dim))\n",
    "        for i in range(num_sents):\n",
    "            s = self.sentences[i]\n",
    "            new_tokens = self.unk_filter(s, embeddings)\n",
    "            weighted_avg = np.average(embeddings.loc[new_tokens].values, weights=weights.loc[new_tokens].values, axis=0)\n",
    "            result[i,:] = weighted_avg\n",
    "        return result\n",
    "    \n",
    "    def sif(self, model, dim):\n",
    "        word_embeddings = self.read_embedding(model, dim)\n",
    "        sentence_embeddings = self.get_weighted_average(word_embeddings, model, dim)\n",
    "        sentence_embeddings = self.remove_pc(sentence_embeddings, 1)\n",
    "        sentence_embeddings = pd.DataFrame(sentence_embeddings)\n",
    "        result = self.combine_sentence_embeddings_and_prepared(sentence_embeddings)\n",
    "        model = '{}-sif'.format(model)\n",
    "        self.save(result, model, dim)\n",
    "\n",
    "    def compute_pc(self, X, npc):\n",
    "        \"\"\"\n",
    "        Compute the principal components. DO NOT MAKE THE DATA ZERO MEAN!\n",
    "        :param X: X[i,:] is a data point\n",
    "        :param npc: number of principal components to remove\n",
    "        :return: component_[i,:] is the i-th pc\n",
    "        \"\"\"\n",
    "        svd = TruncatedSVD(n_components=npc, n_iter=7, random_state=0)\n",
    "        svd.fit(X)\n",
    "        return svd.components_\n",
    "\n",
    "    def remove_pc(self, X, npc):\n",
    "        \"\"\"\n",
    "        Remove the projection on the principal components\n",
    "        :param X: X[i,:] is a data point\n",
    "        :param npc: number of principal components to remove\n",
    "        :return: XX[i, :] is the data point after removing its projection\n",
    "        \"\"\"\n",
    "        pc = self.compute_pc(X, npc)\n",
    "        return X - X.dot(pc.transpose()) * pc\n",
    "    \n",
    "    def create_sentence_embedding(self, model, dim, method):\n",
    "        if method == 'sif':\n",
    "            self.sif(model, dim)\n",
    "        elif method in FS:\n",
    "            self.combine_element_wise(model, dim, method)"
   ]
  },
  {
   "cell_type": "code",
   "execution_count": 2,
   "metadata": {
    "collapsed": true
   },
   "outputs": [],
   "source": [
    "LGS = ['en', 'fr']\n",
    "DIMS = np.arange(20, 320, 20)\n",
    "FS = ['sum', 'mean', 'max', 'min']\n",
    "METHODS = FS + ['sif']"
   ]
  },
  {
   "cell_type": "code",
   "execution_count": 7,
   "metadata": {
    "collapsed": true
   },
   "outputs": [],
   "source": [
    "def main(lgs, dims, methods):\n",
    "    model = 'skipgram'\n",
    "    for lg in lgs:\n",
    "        s = SentenceEmbedder(lg)\n",
    "        for d in dims:\n",
    "            for method in methods:\n",
    "                start = datetime.now()\n",
    "                s.create_sentence_embedding(model, d, method)\n",
    "                end = datetime.now()\n",
    "                msg = 'Creating sentence representations for {} {} {} {} took {}'.format(lg, model, d, method, end-start)\n",
    "                logging.info(msg)"
   ]
  },
  {
   "cell_type": "code",
   "execution_count": 8,
   "metadata": {
    "collapsed": true
   },
   "outputs": [],
   "source": [
    "main(LGS, DIMS, METHODS)"
   ]
  }
 ],
 "metadata": {
  "kernelspec": {
   "display_name": "Python 3",
   "language": "python",
   "name": "python3"
  },
  "language_info": {
   "codemirror_mode": {
    "name": "ipython",
    "version": 3
   },
   "file_extension": ".py",
   "mimetype": "text/x-python",
   "name": "python",
   "nbconvert_exporter": "python",
   "pygments_lexer": "ipython3",
   "version": "3.6.1"
  }
 },
 "nbformat": 4,
 "nbformat_minor": 2
}
