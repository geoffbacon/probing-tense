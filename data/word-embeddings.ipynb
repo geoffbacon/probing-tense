{
 "cells": [
  {
   "cell_type": "markdown",
   "metadata": {},
   "source": [
    "# Word embeddings"
   ]
  },
  {
   "cell_type": "code",
   "execution_count": 1,
   "metadata": {
    "collapsed": true
   },
   "outputs": [],
   "source": [
    "import os\n",
    "import pickle\n",
    "import logging\n",
    "from datetime import datetime\n",
    "import pandas as pd\n",
    "from gensim.models import Word2Vec, FastText\n",
    "from gensim.models.word2vec import PathLineSentences\n",
    "\n",
    "logging.basicConfig(filename='logs/word-embeddings.log', filemode='w', level=logging.INFO, \n",
    "                        format='%(asctime)s %(message)s', datefmt='%m/%d/%Y %I:%M:%S %p')\n",
    "logging.getLogger(\"gensim\").setLevel(logging.WARNING)\n",
    "\n",
    "OUT_DIR = 'representations'"
   ]
  },
  {
   "cell_type": "code",
   "execution_count": 2,
   "metadata": {
    "collapsed": true
   },
   "outputs": [],
   "source": [
    "class Trainer:\n",
    "    \n",
    "    MODELS = {'skipgram': Word2Vec, \n",
    "              'fasttext': FastText}\n",
    "    DIMS = [100, 300, 500]\n",
    "    WINDOW = 5\n",
    "    SG = 1\n",
    "    HS = 1\n",
    "    EPOCHS = 5\n",
    "    \n",
    "    def __init__(self, lg):\n",
    "        self.lg = lg\n",
    "        self.sentences = PathLineSentences(os.path.join('wikipedia', lg, 'articles'))\n",
    "        fname = os.path.join('wikipedia', lg, 'metadata.pkl')\n",
    "        with open(fname, 'rb') as f:\n",
    "            obj = pickle.load(f)\n",
    "        self.num_sents = obj['num_sents']\n",
    "        self.out_dir = os.path.join(OUT_DIR, lg)\n",
    "        os.makedirs(self.out_dir) # errors if out_dir already exists so I don't re-write data\n",
    "    \n",
    "    def train(self):\n",
    "        for name, model in self.MODELS.items():\n",
    "            for d in self.DIMS:\n",
    "                start = datetime.now()\n",
    "                m = model(size=d,\n",
    "                          sg=self.SG,\n",
    "                          window=self.WINDOW,\n",
    "                          hs=self.HS,\n",
    "                          max_vocab_size=50000)\n",
    "                m.build_vocab(self.sentences)\n",
    "                m.train(self.sentences, total_examples=self.num_sents, epochs=self.EPOCHS)\n",
    "                self.save(m, name)\n",
    "                end = datetime.now()\n",
    "                msg = 'Training {} with {} dimensions on {} sentences for {} took {}'.format(name, d, self.num_sents, self.lg, end-start)\n",
    "                logging.info(msg)\n",
    "                 \n",
    "    def save(self, model, name):\n",
    "        embeddings = {word: model.wv.get_vector(word) for word in model.wv.vocab.keys()}\n",
    "        df = pd.DataFrame.from_dict(embeddings, orient='index')\n",
    "        df.index.name = 'lx_obj'\n",
    "        dim = len(df.columns)\n",
    "        fname = os.path.join(self.out_dir, '{}-{}.csv'.format(name, dim))\n",
    "        df.to_csv(fname)"
   ]
  },
  {
   "cell_type": "code",
   "execution_count": 3,
   "metadata": {
    "collapsed": true
   },
   "outputs": [],
   "source": [
    "for lg in ['en', 'fr', 'it', 'es']:\n",
    "    trainer = Trainer(lg)\n",
    "    trainer.train()"
   ]
  }
 ],
 "metadata": {
  "kernelspec": {
   "display_name": "Python 3",
   "language": "python",
   "name": "python3"
  },
  "language_info": {
   "codemirror_mode": {
    "name": "ipython",
    "version": 3
   },
   "file_extension": ".py",
   "mimetype": "text/x-python",
   "name": "python",
   "nbconvert_exporter": "python",
   "pygments_lexer": "ipython3",
   "version": "3.6.1"
  }
 },
 "nbformat": 4,
 "nbformat_minor": 2
}
