{
 "cells": [
  {
   "cell_type": "markdown",
   "metadata": {},
   "source": [
    "# Classification"
   ]
  },
  {
   "cell_type": "code",
   "execution_count": 1,
   "metadata": {
    "collapsed": true
   },
   "outputs": [],
   "source": [
    "import os\n",
    "import pickle\n",
    "import logging\n",
    "from datetime import datetime\n",
    "import numpy as np\n",
    "import pandas as pd\n",
    "from sklearn.linear_model import LogisticRegressionCV\n",
    "\n",
    "logging.basicConfig(filename='logs/classification.log', filemode='w', level=logging.INFO, \n",
    "                        format='%(asctime)s %(message)s', datefmt='%m/%d/%Y %I:%M:%S %p')\n",
    "\n",
    "RANDOM_SEED = sum(map(ord, 'time'))\n",
    "Cs = np.logspace(start=-4, stop=-2, base=10, num=10)\n",
    "CV = 10"
   ]
  },
  {
   "cell_type": "code",
   "execution_count": 7,
   "metadata": {
    "collapsed": true
   },
   "outputs": [],
   "source": [
    "def read_sentence_embedding(lg, model_name, dim):\n",
    "    fname = '{}-{}.csv'.format(model_name, dim)\n",
    "    fname = os.path.join('representations', lg, fname)\n",
    "    return pd.read_csv(fname)\n",
    "    \n",
    "def collect_results(trained_model, X_test, y_test, test):\n",
    "    test['prediction'] = trained_model.predict(X_test)\n",
    "    prediction_probs = pd.DataFrame(trained_model.predict_proba(X_test), columns=trained_model.classes_, index=test.index)\n",
    "    p_correct = []\n",
    "    for i, v in test['tense'].iteritems(): \n",
    "        p = prediction_probs.loc[i][v]\n",
    "        p_correct.append(p)\n",
    "    test['prob_correct'] = p_correct\n",
    "    accuracy = trained_model.score(X_test, y_test)\n",
    "    obj = {'accuracy': accuracy, 'weights': trained_model.coef_, 'classes': trained_model.classes_, 'model': trained_model}\n",
    "    return test, obj\n",
    "\n",
    "def write_results(lg, model_name, dim, df, obj):\n",
    "    fname = '{}-{}.csv'.format(model_name, dim)\n",
    "    fname = os.path.join('classification', lg, fname)\n",
    "    df.to_csv(fname, index=False)\n",
    "    fname = '{}-{}.pkl'.format(model_name, dim)\n",
    "    fname = os.path.join('classification', lg, fname)\n",
    "    with open(fname, 'wb') as f:\n",
    "        pickle.dump(obj, f)\n",
    "\n",
    "def classify(lg, model_name, dim):\n",
    "    start = datetime.now()\n",
    "    data = read_sentence_embedding(lg, model_name, dim)\n",
    "    train = data[data['train']]\n",
    "    test = data[~data['train']].copy()\n",
    "    predictors = [c for c in data if c.isdigit()]\n",
    "    X_train, X_test = train[predictors], test[predictors]\n",
    "    y_train, y_test = train['tense'], test['tense']\n",
    "    model = LogisticRegressionCV(Cs=Cs, penalty='l1', cv=CV, solver='liblinear', refit=True, random_state=RANDOM_SEED)\n",
    "    model = model.fit(X_train, y_train)\n",
    "    test.drop(predictors, axis=1, inplace=True)\n",
    "    test, obj = collect_results(model, X_test, y_test, test)\n",
    "    write_results(lg, model_name, dim, test, obj)\n",
    "    end = datetime.now()\n",
    "    msg = 'Classifying {} {} {} took {}'.format(lg, model_name, dim, end-start)\n",
    "    logging.info(msg)"
   ]
  },
  {
   "cell_type": "code",
   "execution_count": null,
   "metadata": {
    "collapsed": true
   },
   "outputs": [],
   "source": []
  }
 ],
 "metadata": {
  "kernelspec": {
   "display_name": "Python 3",
   "language": "python",
   "name": "python3"
  },
  "language_info": {
   "codemirror_mode": {
    "name": "ipython",
    "version": 3
   },
   "file_extension": ".py",
   "mimetype": "text/x-python",
   "name": "python",
   "nbconvert_exporter": "python",
   "pygments_lexer": "ipython3",
   "version": "3.6.1"
  }
 },
 "nbformat": 4,
 "nbformat_minor": 2
}
