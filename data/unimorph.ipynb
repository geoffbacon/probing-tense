{
 "cells": [
  {
   "cell_type": "markdown",
   "metadata": {},
   "source": [
    "# UniMorph"
   ]
  },
  {
   "cell_type": "code",
   "execution_count": 1,
   "metadata": {
    "collapsed": true
   },
   "outputs": [],
   "source": [
    "import os\n",
    "import re\n",
    "import logging\n",
    "import warnings\n",
    "warnings.simplefilter(action='ignore', category=FutureWarning)\n",
    "from datetime import datetime\n",
    "import pandas as pd\n",
    "\n",
    "logging.basicConfig(filename='logs/unimorph.log', filemode='w', level=logging.INFO, \n",
    "                        format='%(asctime)s %(message)s', datefmt='%m/%d/%Y %I:%M:%S %p')\n",
    "\n",
    "LINKS = ['https://github.com/unimorph/eng.git',\n",
    "         'https://github.com/unimorph/fra.git']\n",
    "\n",
    "OUT_DIR = 'unimorph'"
   ]
  },
  {
   "cell_type": "code",
   "execution_count": 2,
   "metadata": {
    "collapsed": true
   },
   "outputs": [],
   "source": [
    "def download(url, path):\n",
    "    cmd = 'git clone {} {}'.format(url, path)\n",
    "    os.system(cmd)\n",
    "\n",
    "def fetch_datasets(datasets):\n",
    "    for link in datasets:\n",
    "        local_path = os.path.join(OUT_DIR, os.path.splitext(os.path.basename(link))[0])\n",
    "        if not os.path.exists(local_path):\n",
    "            download(link, local_path)\n",
    "\n",
    "fetch_datasets(LINKS)"
   ]
  },
  {
   "cell_type": "code",
   "execution_count": 3,
   "metadata": {
    "collapsed": true
   },
   "outputs": [],
   "source": [
    "class UniMorphReader:\n",
    "    \n",
    "    AKTIONSART = 'STAT DYN TEL ATEL PCT DUR ACH ACCMP SEMEL ACTY'\n",
    "    ASPECT = 'IPFV PFV PRF PROG PROSP ITER HAB'\n",
    "    FINITENESS = 'FIN NFIN'\n",
    "    GENDER = 'MASC FEM NEUT'\n",
    "    NUMBER = 'SG PL'\n",
    "    POS = 'N PROPN ADJ PRO CLF ART DET V ADV AUX V.PTCP V.MSDR V.CVB ADP COMP CONJ NUM PART INTJ'\n",
    "    TENSE = 'PRS PST FUT IMMED HOD 1DAY RCT RMT'\n",
    "    \n",
    "    DIMENSIONS = {'aktionsart': AKTIONSART,\n",
    "                  'aspect': ASPECT,\n",
    "                  'finiteness': FINITENESS,\n",
    "                  'gender': GENDER,\n",
    "                  'number': NUMBER,\n",
    "                  'pos': POS,\n",
    "                  'tense': TENSE\n",
    "                 }     \n",
    "    \n",
    "    def __init__(self, lg):\n",
    "        self.lg = lg\n",
    "        self.fname = os.path.join(OUT_DIR, lg, lg)\n",
    "        self.data = self.load_data(self.DIMENSIONS.keys())\n",
    "        self.save()\n",
    "    \n",
    "    def make_regex(self, dimension):\n",
    "        pattern = '(' + '|'.join(dimension.split()) + ')'\n",
    "        return re.compile(pattern)\n",
    "    \n",
    "    def load_data(self, dimensions):\n",
    "        data = pd.read_csv(self.fname, sep='\\t', header=None, names=['stem', 'inflected', 'features'])\n",
    "        for dimension in dimensions:\n",
    "            regex = self.make_regex(self.DIMENSIONS[dimension])\n",
    "            data[dimension] = data['features'].str.extract(regex)\n",
    "        data.drop('features', axis=1, inplace=True)\n",
    "        return data.drop_duplicates()\n",
    "    \n",
    "    def save(self):\n",
    "        fname = os.path.join(OUT_DIR, self.lg, '{}.csv'.format(self.lg))\n",
    "        self.data.to_csv(fname, index=False)"
   ]
  },
  {
   "cell_type": "code",
   "execution_count": 4,
   "metadata": {
    "collapsed": true
   },
   "outputs": [],
   "source": [
    "for lg in ['eng', 'fra']:\n",
    "    start = datetime.now()\n",
    "    data = UniMorphReader(lg)\n",
    "    end = datetime.now()\n",
    "    msg = 'Processing unimorph data for {} took {}'.format(lg, end-start)\n",
    "    logging.info(msg)"
   ]
  }
 ],
 "metadata": {
  "kernelspec": {
   "display_name": "Python 3",
   "language": "python",
   "name": "python3"
  },
  "language_info": {
   "codemirror_mode": {
    "name": "ipython",
    "version": 3
   },
   "file_extension": ".py",
   "mimetype": "text/x-python",
   "name": "python",
   "nbconvert_exporter": "python",
   "pygments_lexer": "ipython3",
   "version": "3.6.1"
  }
 },
 "nbformat": 4,
 "nbformat_minor": 2
}
